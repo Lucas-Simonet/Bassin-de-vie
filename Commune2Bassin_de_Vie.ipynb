{
 "cells": [
  {
   "cell_type": "code",
   "execution_count": 24,
   "id": "19f6d187",
   "metadata": {},
   "outputs": [],
   "source": [
    "import geopandas\n",
    "import pandas as pd"
   ]
  },
  {
   "cell_type": "code",
   "execution_count": 46,
   "id": "66a9189b",
   "metadata": {},
   "outputs": [
    {
     "data": {
      "text/plain": [
       "geopandas.geodataframe.GeoDataFrame"
      ]
     },
     "execution_count": 46,
     "metadata": {},
     "output_type": "execute_result"
    }
   ],
   "source": [
    "communes_geo = geopandas.read_file(\"communes-20190101-shp\")\n",
    "type(communes_geo)"
   ]
  },
  {
   "cell_type": "code",
   "execution_count": 47,
   "id": "41bb1bfe",
   "metadata": {
    "scrolled": true
   },
   "outputs": [
    {
     "name": "stdout",
     "output_type": "stream",
     "text": [
      "(34970, 10)\n"
     ]
    },
    {
     "data": {
      "text/html": [
       "<div>\n",
       "<style scoped>\n",
       "    .dataframe tbody tr th:only-of-type {\n",
       "        vertical-align: middle;\n",
       "    }\n",
       "\n",
       "    .dataframe tbody tr th {\n",
       "        vertical-align: top;\n",
       "    }\n",
       "\n",
       "    .dataframe thead th {\n",
       "        text-align: right;\n",
       "    }\n",
       "</style>\n",
       "<table border=\"1\" class=\"dataframe\">\n",
       "  <thead>\n",
       "    <tr style=\"text-align: right;\">\n",
       "      <th></th>\n",
       "      <th>insee</th>\n",
       "      <th>nom</th>\n",
       "      <th>wikipedia</th>\n",
       "      <th>surf_ha</th>\n",
       "      <th>geometry</th>\n",
       "      <th>LIBGEO</th>\n",
       "      <th>BV2012</th>\n",
       "      <th>LIBBV2012</th>\n",
       "      <th>DEP</th>\n",
       "      <th>REG</th>\n",
       "    </tr>\n",
       "  </thead>\n",
       "  <tbody>\n",
       "    <tr>\n",
       "      <th>0</th>\n",
       "      <td>97223</td>\n",
       "      <td>Saint-Esprit</td>\n",
       "      <td>fr:Saint-Esprit (Martinique)</td>\n",
       "      <td>2318.0</td>\n",
       "      <td>POLYGON ((-60.95617 14.55766, -60.95561 14.557...</td>\n",
       "      <td>Saint-Esprit</td>\n",
       "      <td>97222</td>\n",
       "      <td>Le Robert</td>\n",
       "      <td>972</td>\n",
       "      <td>02</td>\n",
       "    </tr>\n",
       "    <tr>\n",
       "      <th>1</th>\n",
       "      <td>97233</td>\n",
       "      <td>Le Morne-Vert</td>\n",
       "      <td>fr:Le Morne-Vert</td>\n",
       "      <td>1325.0</td>\n",
       "      <td>POLYGON ((-61.15922 14.70645, -61.15917 14.706...</td>\n",
       "      <td>Le Morne-Vert</td>\n",
       "      <td>97209</td>\n",
       "      <td>Fort-de-France</td>\n",
       "      <td>972</td>\n",
       "      <td>02</td>\n",
       "    </tr>\n",
       "    <tr>\n",
       "      <th>2</th>\n",
       "      <td>97208</td>\n",
       "      <td>Fonds-Saint-Denis</td>\n",
       "      <td>fr:Fonds-Saint-Denis</td>\n",
       "      <td>2374.0</td>\n",
       "      <td>POLYGON ((-61.16254 14.74252, -61.16232 14.743...</td>\n",
       "      <td>Fonds-Saint-Denis</td>\n",
       "      <td>97209</td>\n",
       "      <td>Fort-de-France</td>\n",
       "      <td>972</td>\n",
       "      <td>02</td>\n",
       "    </tr>\n",
       "    <tr>\n",
       "      <th>3</th>\n",
       "      <td>97224</td>\n",
       "      <td>Saint-Joseph</td>\n",
       "      <td>fr:Saint-Joseph (Martinique)</td>\n",
       "      <td>4324.0</td>\n",
       "      <td>POLYGON ((-61.08680 14.71891, -61.08678 14.719...</td>\n",
       "      <td>Saint-Joseph</td>\n",
       "      <td>97209</td>\n",
       "      <td>Fort-de-France</td>\n",
       "      <td>972</td>\n",
       "      <td>02</td>\n",
       "    </tr>\n",
       "    <tr>\n",
       "      <th>4</th>\n",
       "      <td>97212</td>\n",
       "      <td>Gros-Morne</td>\n",
       "      <td>fr:Gros-Morne</td>\n",
       "      <td>4601.0</td>\n",
       "      <td>POLYGON ((-61.08483 14.72449, -61.08481 14.724...</td>\n",
       "      <td>Gros-Morne</td>\n",
       "      <td>97222</td>\n",
       "      <td>Le Robert</td>\n",
       "      <td>972</td>\n",
       "      <td>02</td>\n",
       "    </tr>\n",
       "  </tbody>\n",
       "</table>\n",
       "</div>"
      ],
      "text/plain": [
       "   insee                nom                     wikipedia  surf_ha  \\\n",
       "0  97223       Saint-Esprit  fr:Saint-Esprit (Martinique)   2318.0   \n",
       "1  97233      Le Morne-Vert              fr:Le Morne-Vert   1325.0   \n",
       "2  97208  Fonds-Saint-Denis          fr:Fonds-Saint-Denis   2374.0   \n",
       "3  97224       Saint-Joseph  fr:Saint-Joseph (Martinique)   4324.0   \n",
       "4  97212         Gros-Morne                 fr:Gros-Morne   4601.0   \n",
       "\n",
       "                                            geometry             LIBGEO  \\\n",
       "0  POLYGON ((-60.95617 14.55766, -60.95561 14.557...       Saint-Esprit   \n",
       "1  POLYGON ((-61.15922 14.70645, -61.15917 14.706...      Le Morne-Vert   \n",
       "2  POLYGON ((-61.16254 14.74252, -61.16232 14.743...  Fonds-Saint-Denis   \n",
       "3  POLYGON ((-61.08680 14.71891, -61.08678 14.719...       Saint-Joseph   \n",
       "4  POLYGON ((-61.08483 14.72449, -61.08481 14.724...         Gros-Morne   \n",
       "\n",
       "  BV2012       LIBBV2012  DEP REG  \n",
       "0  97222       Le Robert  972  02  \n",
       "1  97209  Fort-de-France  972  02  \n",
       "2  97209  Fort-de-France  972  02  \n",
       "3  97209  Fort-de-France  972  02  \n",
       "4  97222       Le Robert  972  02  "
      ]
     },
     "execution_count": 47,
     "metadata": {},
     "output_type": "execute_result"
    }
   ],
   "source": [
    "communes_geo.shape\n",
    "communes = pd.read_csv('Communes.csv', sep =';', encoding='latin1', dtype=str) \n",
    "commune_bdv = pd.merge(communes_geo, communes, left_on = 'insee', right_on = 'CODGEO', how = 'inner').drop('CODGEO', axis = 1)\n",
    "print(commune_bdv.shape)\n",
    "commune_bdv.head()"
   ]
  },
  {
   "cell_type": "code",
   "execution_count": 48,
   "id": "4a53c215",
   "metadata": {},
   "outputs": [],
   "source": [
    "bassin_de_vie = commune_bdv.dissolve(by='BV2012')"
   ]
  },
  {
   "cell_type": "code",
   "execution_count": 50,
   "id": "7dbc9ac2",
   "metadata": {},
   "outputs": [],
   "source": [
    "bassin_de_vie.to_file('bassin_de_vie.shp')"
   ]
  }
 ],
 "metadata": {
  "kernelspec": {
   "display_name": "Python 3 (ipykernel)",
   "language": "python",
   "name": "python3"
  },
  "language_info": {
   "codemirror_mode": {
    "name": "ipython",
    "version": 3
   },
   "file_extension": ".py",
   "mimetype": "text/x-python",
   "name": "python",
   "nbconvert_exporter": "python",
   "pygments_lexer": "ipython3",
   "version": "3.8.10"
  }
 },
 "nbformat": 4,
 "nbformat_minor": 5
}
